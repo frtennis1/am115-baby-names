{
 "cells": [
  {
   "cell_type": "markdown",
   "metadata": {},
   "source": [
    "# Prediction Problem\n",
    "\n",
    "This notebook treats this as a prediction model minimizing the squared error of one-year lagged predictions. Data after 2000 is used as a test set and data before is used to train a simple linear predictor conditioning on current popularity and local estimates of the derivative."
   ]
  },
  {
   "cell_type": "code",
   "execution_count": 6,
   "metadata": {},
   "outputs": [],
   "source": [
    "df = pd.read_feather('data/names.feather').set_index(['year', 'name', 'gender'])"
   ]
  },
  {
   "cell_type": "code",
   "execution_count": 16,
   "metadata": {},
   "outputs": [],
   "source": [
    "pct_df = 100 * df / df.groupby('year').transform(sum)\n",
    "pct_df = pct_df.groupby(['year', 'name']).sum()"
   ]
  },
  {
   "cell_type": "code",
   "execution_count": 48,
   "metadata": {},
   "outputs": [],
   "source": [
    "pct_df['count_lag1'] = pct_df.groupby('name')['count'].shift(1)\n",
    "pct_df['count_lag2'] = pct_df.groupby('name')['count'].shift(2)\n",
    "pct_df['delta_lag1'] = pct_df['count_lag1'] - pct_df['count_lag2']\n",
    "pct_df['count_ratio'] = pct_df['count'] / pct_df['count_lag1']"
   ]
  },
  {
   "cell_type": "code",
   "execution_count": 49,
   "metadata": {},
   "outputs": [],
   "source": [
    "train = pct_df.dropna().loc[:2000,:]\n",
    "test = pct_df.dropna().loc[2001:,:]"
   ]
  },
  {
   "cell_type": "code",
   "execution_count": 34,
   "metadata": {},
   "outputs": [],
   "source": [
    "fit = smf.ols('count ~ count_lag1 + delta_lag1', data=train).fit()"
   ]
  },
  {
   "cell_type": "code",
   "execution_count": 45,
   "metadata": {},
   "outputs": [
    {
     "name": "stdout",
     "output_type": "stream",
     "text": [
      "                            OLS Regression Results                            \n",
      "==============================================================================\n",
      "Dep. Variable:                  count   R-squared:                       0.996\n",
      "Model:                            OLS   Adj. R-squared:                  0.996\n",
      "Method:                 Least Squares   F-statistic:                 1.414e+08\n",
      "Date:                Sat, 03 Nov 2018   Prob (F-statistic):               0.00\n",
      "Time:                        20:19:18   Log-Likelihood:             4.3578e+06\n",
      "No. Observations:             1110584   AIC:                        -8.715e+06\n",
      "Df Residuals:                 1110581   BIC:                        -8.715e+06\n",
      "Df Model:                           2                                         \n",
      "Covariance Type:            nonrobust                                         \n",
      "==============================================================================\n",
      "                 coef    std err          t      P>|t|      [0.025      0.975]\n",
      "------------------------------------------------------------------------------\n",
      "Intercept   6.832e-05   4.58e-06     14.912      0.000    5.93e-05    7.73e-05\n",
      "count_lag1     0.9930   5.91e-05   1.68e+04      0.000       0.993       0.993\n",
      "delta_lag1     0.4558      0.001    546.968      0.000       0.454       0.457\n",
      "==============================================================================\n",
      "Omnibus:                  2286601.355   Durbin-Watson:                   1.980\n",
      "Prob(Omnibus):                  0.000   Jarque-Bera (JB):     926975520901.877\n",
      "Skew:                          15.657   Prob(JB):                         0.00\n",
      "Kurtosis:                    4478.622   Cond. No.                         184.\n",
      "==============================================================================\n",
      "\n",
      "Warnings:\n",
      "[1] Standard Errors assume that the covariance matrix of the errors is correctly specified.\n"
     ]
    }
   ],
   "source": [
    "print(fit.summary())"
   ]
  },
  {
   "cell_type": "code",
   "execution_count": 46,
   "metadata": {},
   "outputs": [
    {
     "data": {
      "text/plain": [
       "0.0020220767594426189"
      ]
     },
     "execution_count": 46,
     "metadata": {},
     "output_type": "execute_result"
    }
   ],
   "source": [
    "np.sqrt(np.mean(((test['count'] - test['count_lag1']))**2))"
   ]
  },
  {
   "cell_type": "code",
   "execution_count": 47,
   "metadata": {},
   "outputs": [
    {
     "data": {
      "text/plain": [
       "0.0016642949411842993"
      ]
     },
     "execution_count": 47,
     "metadata": {},
     "output_type": "execute_result"
    }
   ],
   "source": [
    "np.sqrt(np.mean(((test['count'] - fit.predict(test)))**2))"
   ]
  },
  {
   "cell_type": "code",
   "execution_count": null,
   "metadata": {},
   "outputs": [],
   "source": []
  }
 ],
 "metadata": {
  "kernelspec": {
   "display_name": "Python 3",
   "language": "python",
   "name": "python3"
  },
  "language_info": {
   "codemirror_mode": {
    "name": "ipython",
    "version": 3
   },
   "file_extension": ".py",
   "mimetype": "text/x-python",
   "name": "python",
   "nbconvert_exporter": "python",
   "pygments_lexer": "ipython3",
   "version": "3.6.1"
  }
 },
 "nbformat": 4,
 "nbformat_minor": 2
}
